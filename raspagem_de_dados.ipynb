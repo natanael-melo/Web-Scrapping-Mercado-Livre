{
 "cells": [
  {
   "cell_type": "code",
   "execution_count": 1,
   "metadata": {},
   "outputs": [],
   "source": [
    "# Importar as bibliotecas para abrir navegador\n",
    "from selenium import webdriver\n",
    "from selenium.webdriver.common.by import By\n",
    "from selenium.webdriver import ActionChains\n",
    "from selenium.webdriver.chrome.service import Service\n",
    "from webdriver_manager.chrome import ChromeDriverManager"
   ]
  },
  {
   "cell_type": "code",
   "execution_count": 2,
   "metadata": {},
   "outputs": [],
   "source": [
    "# Importar demais bibliotecas utilizadas\n",
    "import os\n",
    "import csv\n",
    "import hashlib\n",
    "import pandas as pd\n",
    "from time import sleep\n",
    "from datetime import date, datetime"
   ]
  },
  {
   "cell_type": "code",
   "execution_count": 67,
   "metadata": {},
   "outputs": [],
   "source": [
    "# Inicializar o chrome\n",
    "service = Service(ChromeDriverManager().install())\n",
    "nav = webdriver.Chrome(service=service)"
   ]
  },
  {
   "cell_type": "code",
   "execution_count": 129,
   "metadata": {},
   "outputs": [],
   "source": [
    "# Abrir o Navegador na pagina de ranking de jogadores\n",
    "nav.get(\"https://www.mercadolivre.com.br/ofertas\")"
   ]
  },
  {
   "cell_type": "code",
   "execution_count": 130,
   "metadata": {},
   "outputs": [],
   "source": [
    "def obter_data():\n",
    "    return datetime.now().strftime('%Y%m%d')"
   ]
  },
  {
   "cell_type": "code",
   "execution_count": 131,
   "metadata": {},
   "outputs": [],
   "source": [
    "data = obter_data()"
   ]
  },
  {
   "cell_type": "code",
   "execution_count": 132,
   "metadata": {},
   "outputs": [],
   "source": [
    "ofertas = []"
   ]
  },
  {
   "cell_type": "code",
   "execution_count": 133,
   "metadata": {},
   "outputs": [
    {
     "name": "stdout",
     "output_type": "stream",
     "text": [
      "Ofertas relâmpago\n",
      "Verão 2024\n",
      "Seleção de Presentes\n",
      "Ceia de Natal\n",
      "Menos de R$100\n",
      "Compra Internacional\n",
      "Liquidação\n",
      "Celulares\n",
      "Notebooks\n",
      "Tênis\n",
      "Fones\n",
      "Supermercado\n",
      "TVs\n",
      "Ferramentas\n",
      "Smartwatches\n",
      "Caixas de som\n"
     ]
    },
    {
     "ename": "ElementClickInterceptedException",
     "evalue": "Message: element click intercepted: Element <a href=\"https://www.mercadolivre.com.br/ofertas?container_id=MLB779542-1&amp;domain_id=MLB-SPEAKERS&amp;page=18\" class=\"andes-pagination__link\" title=\"Próxima\">...</a> is not clickable at point (1053, 527). Other element would receive the click: <body data-site=\"ML\" data-country=\"BR\">...</body>\n  (Session info: chrome=120.0.6099.129)\nStacktrace:\n\tGetHandleVerifier [0x00E46EE3+174339]\n\t(No symbol) [0x00D70A51]\n\t(No symbol) [0x00A86FF6]\n\t(No symbol) [0x00ABE48E]\n\t(No symbol) [0x00ABD09E]\n\t(No symbol) [0x00ABB5F8]\n\t(No symbol) [0x00ABAD7F]\n\t(No symbol) [0x00AB2B4E]\n\t(No symbol) [0x00AD700C]\n\t(No symbol) [0x00AB25B0]\n\t(No symbol) [0x00AD7414]\n\t(No symbol) [0x00AEA104]\n\t(No symbol) [0x00AD6DA6]\n\t(No symbol) [0x00AB1034]\n\t(No symbol) [0x00AB1F8D]\n\tGetHandleVerifier [0x00EE4B1C+820540]\n\tsqlite3_dbdata_init [0x00FA53EE+653550]\n\tsqlite3_dbdata_init [0x00FA4E09+652041]\n\tsqlite3_dbdata_init [0x00F997CC+605388]\n\tsqlite3_dbdata_init [0x00FA5D9B+656027]\n\t(No symbol) [0x00D7FE6C]\n\t(No symbol) [0x00D783B8]\n\t(No symbol) [0x00D784DD]\n\t(No symbol) [0x00D65818]\n\tBaseThreadInitThunk [0x75C87BA9+25]\n\tRtlInitializeExceptionChain [0x7716BD2B+107]\n\tRtlClearBits [0x7716BCAF+191]\n",
     "output_type": "error",
     "traceback": [
      "\u001b[1;31m---------------------------------------------------------------------------\u001b[0m",
      "\u001b[1;31mElementClickInterceptedException\u001b[0m          Traceback (most recent call last)",
      "Cell \u001b[1;32mIn[133], line 66\u001b[0m\n\u001b[0;32m     63\u001b[0m sleep(\u001b[38;5;241m1\u001b[39m)\n\u001b[0;32m     65\u001b[0m \u001b[38;5;28;01mif\u001b[39;00m botao\u001b[38;5;241m.\u001b[39mis_displayed():\n\u001b[1;32m---> 66\u001b[0m     \u001b[43mbotao\u001b[49m\u001b[38;5;241;43m.\u001b[39;49m\u001b[43mclick\u001b[49m\u001b[43m(\u001b[49m\u001b[43m)\u001b[49m\n\u001b[0;32m     67\u001b[0m     sleep(\u001b[38;5;241m1\u001b[39m)\n\u001b[0;32m     68\u001b[0m     i \u001b[38;5;241m+\u001b[39m\u001b[38;5;241m=\u001b[39m \u001b[38;5;241m1\u001b[39m\n",
      "File \u001b[1;32mc:\\Users\\natan\\AppData\\Local\\Programs\\Python\\Python310\\lib\\site-packages\\selenium\\webdriver\\remote\\webelement.py:93\u001b[0m, in \u001b[0;36mWebElement.click\u001b[1;34m(self)\u001b[0m\n\u001b[0;32m     91\u001b[0m \u001b[38;5;28;01mdef\u001b[39;00m \u001b[38;5;21mclick\u001b[39m(\u001b[38;5;28mself\u001b[39m) \u001b[38;5;241m-\u001b[39m\u001b[38;5;241m>\u001b[39m \u001b[38;5;28;01mNone\u001b[39;00m:\n\u001b[0;32m     92\u001b[0m \u001b[38;5;250m    \u001b[39m\u001b[38;5;124;03m\"\"\"Clicks the element.\"\"\"\u001b[39;00m\n\u001b[1;32m---> 93\u001b[0m     \u001b[38;5;28;43mself\u001b[39;49m\u001b[38;5;241;43m.\u001b[39;49m\u001b[43m_execute\u001b[49m\u001b[43m(\u001b[49m\u001b[43mCommand\u001b[49m\u001b[38;5;241;43m.\u001b[39;49m\u001b[43mCLICK_ELEMENT\u001b[49m\u001b[43m)\u001b[49m\n",
      "File \u001b[1;32mc:\\Users\\natan\\AppData\\Local\\Programs\\Python\\Python310\\lib\\site-packages\\selenium\\webdriver\\remote\\webelement.py:394\u001b[0m, in \u001b[0;36mWebElement._execute\u001b[1;34m(self, command, params)\u001b[0m\n\u001b[0;32m    392\u001b[0m     params \u001b[38;5;241m=\u001b[39m {}\n\u001b[0;32m    393\u001b[0m params[\u001b[38;5;124m\"\u001b[39m\u001b[38;5;124mid\u001b[39m\u001b[38;5;124m\"\u001b[39m] \u001b[38;5;241m=\u001b[39m \u001b[38;5;28mself\u001b[39m\u001b[38;5;241m.\u001b[39m_id\n\u001b[1;32m--> 394\u001b[0m \u001b[38;5;28;01mreturn\u001b[39;00m \u001b[38;5;28;43mself\u001b[39;49m\u001b[38;5;241;43m.\u001b[39;49m\u001b[43m_parent\u001b[49m\u001b[38;5;241;43m.\u001b[39;49m\u001b[43mexecute\u001b[49m\u001b[43m(\u001b[49m\u001b[43mcommand\u001b[49m\u001b[43m,\u001b[49m\u001b[43m \u001b[49m\u001b[43mparams\u001b[49m\u001b[43m)\u001b[49m\n",
      "File \u001b[1;32mc:\\Users\\natan\\AppData\\Local\\Programs\\Python\\Python310\\lib\\site-packages\\selenium\\webdriver\\remote\\webdriver.py:347\u001b[0m, in \u001b[0;36mWebDriver.execute\u001b[1;34m(self, driver_command, params)\u001b[0m\n\u001b[0;32m    345\u001b[0m response \u001b[38;5;241m=\u001b[39m \u001b[38;5;28mself\u001b[39m\u001b[38;5;241m.\u001b[39mcommand_executor\u001b[38;5;241m.\u001b[39mexecute(driver_command, params)\n\u001b[0;32m    346\u001b[0m \u001b[38;5;28;01mif\u001b[39;00m response:\n\u001b[1;32m--> 347\u001b[0m     \u001b[38;5;28;43mself\u001b[39;49m\u001b[38;5;241;43m.\u001b[39;49m\u001b[43merror_handler\u001b[49m\u001b[38;5;241;43m.\u001b[39;49m\u001b[43mcheck_response\u001b[49m\u001b[43m(\u001b[49m\u001b[43mresponse\u001b[49m\u001b[43m)\u001b[49m\n\u001b[0;32m    348\u001b[0m     response[\u001b[38;5;124m\"\u001b[39m\u001b[38;5;124mvalue\u001b[39m\u001b[38;5;124m\"\u001b[39m] \u001b[38;5;241m=\u001b[39m \u001b[38;5;28mself\u001b[39m\u001b[38;5;241m.\u001b[39m_unwrap_value(response\u001b[38;5;241m.\u001b[39mget(\u001b[38;5;124m\"\u001b[39m\u001b[38;5;124mvalue\u001b[39m\u001b[38;5;124m\"\u001b[39m, \u001b[38;5;28;01mNone\u001b[39;00m))\n\u001b[0;32m    349\u001b[0m     \u001b[38;5;28;01mreturn\u001b[39;00m response\n",
      "File \u001b[1;32mc:\\Users\\natan\\AppData\\Local\\Programs\\Python\\Python310\\lib\\site-packages\\selenium\\webdriver\\remote\\errorhandler.py:229\u001b[0m, in \u001b[0;36mErrorHandler.check_response\u001b[1;34m(self, response)\u001b[0m\n\u001b[0;32m    227\u001b[0m         alert_text \u001b[38;5;241m=\u001b[39m value[\u001b[38;5;124m\"\u001b[39m\u001b[38;5;124malert\u001b[39m\u001b[38;5;124m\"\u001b[39m]\u001b[38;5;241m.\u001b[39mget(\u001b[38;5;124m\"\u001b[39m\u001b[38;5;124mtext\u001b[39m\u001b[38;5;124m\"\u001b[39m)\n\u001b[0;32m    228\u001b[0m     \u001b[38;5;28;01mraise\u001b[39;00m exception_class(message, screen, stacktrace, alert_text)  \u001b[38;5;66;03m# type: ignore[call-arg]  # mypy is not smart enough here\u001b[39;00m\n\u001b[1;32m--> 229\u001b[0m \u001b[38;5;28;01mraise\u001b[39;00m exception_class(message, screen, stacktrace)\n",
      "\u001b[1;31mElementClickInterceptedException\u001b[0m: Message: element click intercepted: Element <a href=\"https://www.mercadolivre.com.br/ofertas?container_id=MLB779542-1&amp;domain_id=MLB-SPEAKERS&amp;page=18\" class=\"andes-pagination__link\" title=\"Próxima\">...</a> is not clickable at point (1053, 527). Other element would receive the click: <body data-site=\"ML\" data-country=\"BR\">...</body>\n  (Session info: chrome=120.0.6099.129)\nStacktrace:\n\tGetHandleVerifier [0x00E46EE3+174339]\n\t(No symbol) [0x00D70A51]\n\t(No symbol) [0x00A86FF6]\n\t(No symbol) [0x00ABE48E]\n\t(No symbol) [0x00ABD09E]\n\t(No symbol) [0x00ABB5F8]\n\t(No symbol) [0x00ABAD7F]\n\t(No symbol) [0x00AB2B4E]\n\t(No symbol) [0x00AD700C]\n\t(No symbol) [0x00AB25B0]\n\t(No symbol) [0x00AD7414]\n\t(No symbol) [0x00AEA104]\n\t(No symbol) [0x00AD6DA6]\n\t(No symbol) [0x00AB1034]\n\t(No symbol) [0x00AB1F8D]\n\tGetHandleVerifier [0x00EE4B1C+820540]\n\tsqlite3_dbdata_init [0x00FA53EE+653550]\n\tsqlite3_dbdata_init [0x00FA4E09+652041]\n\tsqlite3_dbdata_init [0x00F997CC+605388]\n\tsqlite3_dbdata_init [0x00FA5D9B+656027]\n\t(No symbol) [0x00D7FE6C]\n\t(No symbol) [0x00D783B8]\n\t(No symbol) [0x00D784DD]\n\t(No symbol) [0x00D65818]\n\tBaseThreadInitThunk [0x75C87BA9+25]\n\tRtlInitializeExceptionChain [0x7716BD2B+107]\n\tRtlClearBits [0x7716BCAF+191]\n"
     ]
    }
   ],
   "source": [
    "carroseis = nav.find_elements(By.CLASS_NAME, \"carousel_item\")\n",
    "\n",
    "for i in range(1,len(carroseis)):\n",
    "    carrosel = carroseis[i]\n",
    "\n",
    "    if not carrosel.is_displayed():\n",
    "        botao_seguinte = nav.find_element(By.CLASS_NAME, \"andes-carousel-snapped__control--next\")\n",
    "        botao_seguinte.click()\n",
    "        sleep(2)\n",
    "        carroseis = nav.find_elements(By.CLASS_NAME, \"carousel_item\")\n",
    "        carrosel = carroseis[i]\n",
    "\n",
    "    nome_carrosel = carrosel.find_element(By.CLASS_NAME, \"title\").text\n",
    "    print(nome_carrosel)\n",
    "\n",
    "    carrosel.click()\n",
    "    sleep(2)\n",
    "\n",
    "    descricao_produtos = nav.find_elements(By.CLASS_NAME, \"promotion-item__description\")\n",
    "\n",
    "    proxima_pagina = nav.find_element(By.CLASS_NAME, \"andes-pagination__button--next\")\n",
    "\n",
    "    flag = proxima_pagina.is_displayed()\n",
    "\n",
    "    while flag: \n",
    "\n",
    "        sleep(1)\n",
    "\n",
    "        for produto in descricao_produtos:\n",
    "\n",
    "            try:\n",
    "                nome_produto = produto.find_element(By.CLASS_NAME, \"promotion-item__title\").text\n",
    "            except:\n",
    "                nome_produto = None\n",
    "\n",
    "            try:\n",
    "                valor_real = produto.find_element(By.CLASS_NAME, \"andes-money-amount--previous\").text.split(\"\\n\")[-1]\n",
    "            except:\n",
    "                valor_real = None\n",
    "\n",
    "            try:\n",
    "                valor_promo = produto.find_element(By.CLASS_NAME, \"andes-money-amount__fraction\").text\n",
    "            except:\n",
    "                valor_promo = None\n",
    "\n",
    "            try:\n",
    "                pc_desconto = produto.find_element(By.CLASS_NAME, \"promotion-item__discount-text\").text.split(\"%\")[0]\n",
    "            except:\n",
    "                pc_desconto = None\n",
    "\n",
    "            dados = {\"nome_oferta\": nome_carrosel,\n",
    "                    \"nome_produto\": nome_produto,\n",
    "                    \"valor_real\": valor_real,\n",
    "                    \"valor_promo\": valor_promo,\n",
    "                    \"pc_desconto\": pc_desconto}\n",
    "            \n",
    "            ofertas.append(dados)\n",
    "\n",
    "\n",
    "        proxima_pagina = nav.find_element(By.CLASS_NAME, \"andes-pagination__button--next\")\n",
    "\n",
    "        botao = proxima_pagina.find_element(By.TAG_NAME, 'a')\n",
    "        sleep(1)\n",
    "\n",
    "        if botao.is_displayed():\n",
    "            botao.click()\n",
    "            sleep(1)\n",
    "            i += 1\n",
    "        else:\n",
    "            flag = proxima_pagina.is_displayed()\n",
    "\n",
    "    carroseis = nav.find_elements(By.CLASS_NAME, \"carousel_item\")\n",
    "    sleep(2)"
   ]
  },
  {
   "cell_type": "code",
   "execution_count": 134,
   "metadata": {},
   "outputs": [],
   "source": [
    "ofertas_df = pd.DataFrame(ofertas)"
   ]
  },
  {
   "cell_type": "code",
   "execution_count": 135,
   "metadata": {},
   "outputs": [
    {
     "data": {
      "text/html": [
       "<div>\n",
       "<style scoped>\n",
       "    .dataframe tbody tr th:only-of-type {\n",
       "        vertical-align: middle;\n",
       "    }\n",
       "\n",
       "    .dataframe tbody tr th {\n",
       "        vertical-align: top;\n",
       "    }\n",
       "\n",
       "    .dataframe thead th {\n",
       "        text-align: right;\n",
       "    }\n",
       "</style>\n",
       "<table border=\"1\" class=\"dataframe\">\n",
       "  <thead>\n",
       "    <tr style=\"text-align: right;\">\n",
       "      <th></th>\n",
       "      <th>nome_oferta</th>\n",
       "      <th>nome_produto</th>\n",
       "      <th>valor_real</th>\n",
       "      <th>valor_promo</th>\n",
       "      <th>pc_desconto</th>\n",
       "    </tr>\n",
       "  </thead>\n",
       "  <tbody>\n",
       "    <tr>\n",
       "      <th>0</th>\n",
       "      <td>Ofertas relâmpago</td>\n",
       "      <td>Cerveja Heineken premium garrafa 6 long neck 3...</td>\n",
       "      <td>38</td>\n",
       "      <td>31</td>\n",
       "      <td>19</td>\n",
       "    </tr>\n",
       "    <tr>\n",
       "      <th>1</th>\n",
       "      <td>Ofertas relâmpago</td>\n",
       "      <td>Kit Com 5 Camisetas Masculinas Básicas Hering</td>\n",
       "      <td>169</td>\n",
       "      <td>113</td>\n",
       "      <td>33</td>\n",
       "    </tr>\n",
       "    <tr>\n",
       "      <th>2</th>\n",
       "      <td>Ofertas relâmpago</td>\n",
       "      <td>Cerveja Heineken Premium Puro Malte 350ml Slee...</td>\n",
       "      <td>64</td>\n",
       "      <td>51</td>\n",
       "      <td>19</td>\n",
       "    </tr>\n",
       "    <tr>\n",
       "      <th>3</th>\n",
       "      <td>Ofertas relâmpago</td>\n",
       "      <td>Bermuda Básica De Moletom Masculina Com Amarra...</td>\n",
       "      <td>119</td>\n",
       "      <td>79</td>\n",
       "      <td>33</td>\n",
       "    </tr>\n",
       "    <tr>\n",
       "      <th>4</th>\n",
       "      <td>Ofertas relâmpago</td>\n",
       "      <td>Bota Adventure Para Trabalho Coturno Tênis Pal...</td>\n",
       "      <td>119</td>\n",
       "      <td>113</td>\n",
       "      <td>5</td>\n",
       "    </tr>\n",
       "  </tbody>\n",
       "</table>\n",
       "</div>"
      ],
      "text/plain": [
       "         nome_oferta                                       nome_produto  \\\n",
       "0  Ofertas relâmpago  Cerveja Heineken premium garrafa 6 long neck 3...   \n",
       "1  Ofertas relâmpago      Kit Com 5 Camisetas Masculinas Básicas Hering   \n",
       "2  Ofertas relâmpago  Cerveja Heineken Premium Puro Malte 350ml Slee...   \n",
       "3  Ofertas relâmpago  Bermuda Básica De Moletom Masculina Com Amarra...   \n",
       "4  Ofertas relâmpago  Bota Adventure Para Trabalho Coturno Tênis Pal...   \n",
       "\n",
       "  valor_real valor_promo pc_desconto  \n",
       "0         38          31          19  \n",
       "1        169         113          33  \n",
       "2         64          51          19  \n",
       "3        119          79          33  \n",
       "4        119         113           5  "
      ]
     },
     "execution_count": 135,
     "metadata": {},
     "output_type": "execute_result"
    }
   ],
   "source": [
    "ofertas_df.head()"
   ]
  },
  {
   "cell_type": "code",
   "execution_count": 136,
   "metadata": {},
   "outputs": [],
   "source": [
    "# Ordernar a coluna pc_desconto do maior para o menor\n",
    "ofertas_df.sort_values(by=\"pc_desconto\", ascending=False, inplace=True)"
   ]
  },
  {
   "cell_type": "code",
   "execution_count": 138,
   "metadata": {},
   "outputs": [
    {
     "data": {
      "text/html": [
       "<div>\n",
       "<style scoped>\n",
       "    .dataframe tbody tr th:only-of-type {\n",
       "        vertical-align: middle;\n",
       "    }\n",
       "\n",
       "    .dataframe tbody tr th {\n",
       "        vertical-align: top;\n",
       "    }\n",
       "\n",
       "    .dataframe thead th {\n",
       "        text-align: right;\n",
       "    }\n",
       "</style>\n",
       "<table border=\"1\" class=\"dataframe\">\n",
       "  <thead>\n",
       "    <tr style=\"text-align: right;\">\n",
       "      <th></th>\n",
       "      <th>nome_oferta</th>\n",
       "      <th>nome_produto</th>\n",
       "      <th>valor_real</th>\n",
       "      <th>valor_promo</th>\n",
       "      <th>pc_desconto</th>\n",
       "    </tr>\n",
       "  </thead>\n",
       "  <tbody>\n",
       "    <tr>\n",
       "      <th>6332</th>\n",
       "      <td>Notebooks</td>\n",
       "      <td>Notebook HP 256 G8 prata 15.6\", Intel Core i7 ...</td>\n",
       "      <td>4.317</td>\n",
       "      <td>3.899</td>\n",
       "      <td>9</td>\n",
       "    </tr>\n",
       "    <tr>\n",
       "      <th>4388</th>\n",
       "      <td>Liquidação</td>\n",
       "      <td>Botina Segurança Macboot Original Couro Liso C...</td>\n",
       "      <td>359</td>\n",
       "      <td>324</td>\n",
       "      <td>9</td>\n",
       "    </tr>\n",
       "    <tr>\n",
       "      <th>6320</th>\n",
       "      <td>Notebooks</td>\n",
       "      <td>Notebook Acer Aspire 5 I3-1115g4 8gb Ram 256gb...</td>\n",
       "      <td>3.299</td>\n",
       "      <td>2.999</td>\n",
       "      <td>9</td>\n",
       "    </tr>\n",
       "    <tr>\n",
       "      <th>231</th>\n",
       "      <td>Verão 2024</td>\n",
       "      <td>Bicicleta Infantil Aro 14 Power Game - Bandeir...</td>\n",
       "      <td>540</td>\n",
       "      <td>492</td>\n",
       "      <td>9</td>\n",
       "    </tr>\n",
       "    <tr>\n",
       "      <th>10131</th>\n",
       "      <td>TVs</td>\n",
       "      <td>Smart Tv Led 50 Uhd 4k LG 50ur871c0sa Thinq Ai...</td>\n",
       "      <td>2.443</td>\n",
       "      <td>2.199</td>\n",
       "      <td>9</td>\n",
       "    </tr>\n",
       "  </tbody>\n",
       "</table>\n",
       "</div>"
      ],
      "text/plain": [
       "      nome_oferta                                       nome_produto  \\\n",
       "6332    Notebooks  Notebook HP 256 G8 prata 15.6\", Intel Core i7 ...   \n",
       "4388   Liquidação  Botina Segurança Macboot Original Couro Liso C...   \n",
       "6320    Notebooks  Notebook Acer Aspire 5 I3-1115g4 8gb Ram 256gb...   \n",
       "231    Verão 2024  Bicicleta Infantil Aro 14 Power Game - Bandeir...   \n",
       "10131         TVs  Smart Tv Led 50 Uhd 4k LG 50ur871c0sa Thinq Ai...   \n",
       "\n",
       "      valor_real valor_promo pc_desconto  \n",
       "6332       4.317       3.899           9  \n",
       "4388         359         324           9  \n",
       "6320       3.299       2.999           9  \n",
       "231          540         492           9  \n",
       "10131      2.443       2.199           9  "
      ]
     },
     "execution_count": 138,
     "metadata": {},
     "output_type": "execute_result"
    }
   ],
   "source": [
    "ofertas_df.head()"
   ]
  },
  {
   "cell_type": "code",
   "execution_count": null,
   "metadata": {},
   "outputs": [],
   "source": []
  }
 ],
 "metadata": {
  "kernelspec": {
   "display_name": "Python 3",
   "language": "python",
   "name": "python3"
  },
  "language_info": {
   "codemirror_mode": {
    "name": "ipython",
    "version": 3
   },
   "file_extension": ".py",
   "mimetype": "text/x-python",
   "name": "python",
   "nbconvert_exporter": "python",
   "pygments_lexer": "ipython3",
   "version": "3.10.11"
  }
 },
 "nbformat": 4,
 "nbformat_minor": 2
}
